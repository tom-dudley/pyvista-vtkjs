{
 "cells": [
  {
   "cell_type": "code",
   "execution_count": null,
   "id": "be687b8a-223d-449e-84ad-6ad6d8783c48",
   "metadata": {
    "trusted": true
   },
   "outputs": [],
   "source": [
    "%pip install pyvista_vtkjs"
   ]
  },
  {
   "cell_type": "code",
   "execution_count": null,
   "id": "9ce49cd1-bee9-4939-9f45-72ab392e97c7",
   "metadata": {
    "trusted": true
   },
   "outputs": [],
   "source": [
    "import pyvista_vtkjs as pv"
   ]
  },
  {
   "cell_type": "code",
   "execution_count": null,
   "id": "4942905d-0dfc-435f-b29a-49cdeba02563",
   "metadata": {
    "trusted": true
   },
   "outputs": [],
   "source": [
    "cylinder = pv.CylinderSource()\n",
    "cylinder.SetHeight(2)\n",
    "cylinder.SetRadius(2)\n",
    "\n",
    "plotter = pv.Plotter()\n",
    "plotter.add_mesh(cylinder, color=\"red\", show_edges=True)\n",
    "plotter.show()"
   ]
  }
 ],
 "metadata": {
  "kernelspec": {
   "display_name": "Python (Pyodide)",
   "language": "python",
   "name": "python"
  },
  "language_info": {
   "codemirror_mode": {
    "name": "python",
    "version": 3
   },
   "file_extension": ".py",
   "mimetype": "text/x-python",
   "name": "python",
   "nbconvert_exporter": "python",
   "pygments_lexer": "ipython3",
   "version": "3.8"
  }
 },
 "nbformat": 4,
 "nbformat_minor": 5
}
