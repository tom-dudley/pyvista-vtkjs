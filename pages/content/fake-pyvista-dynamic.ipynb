{
  "metadata": {
    "kernelspec": {
      "name": "python",
      "display_name": "Python (Pyodide)",
      "language": "python"
    },
    "language_info": {
      "codemirror_mode": {
        "name": "python",
        "version": 3
      },
      "file_extension": ".py",
      "mimetype": "text/x-python",
      "name": "python",
      "nbconvert_exporter": "python",
      "pygments_lexer": "ipython3",
      "version": "3.8"
    }
  },
  "nbformat_minor": 4,
  "nbformat": 4,
  "cells": [
    {
      "cell_type": "code",
      "source": "%pip install numpy\n%pip install pyvista --no-deps\n%pip install matplotlib\n%pip install scooby\n%pip install webcolors",
      "metadata": {
        "trusted": true
      },
      "outputs": [],
      "execution_count": 1
    },
    {
      "cell_type": "code",
      "source": "import re\nimport sys\nimport types\nimport requests\nimport ast\n\ndef extract_imports_from_ast(content):\n    \"\"\"\n    Extracts VTK import statements from the given Python source content.\n\n    Args:\n        content (str): The Python source code as a string.\n\n    Returns:\n        list of tuple: A list of (module_name, class_name, alias) tuples.\n    \"\"\"\n    results = []\n    tree = ast.parse(content)\n\n    for node in ast.walk(tree):\n        # Handle standard imports: from vtkmodules.<module> import <class> as <alias>\n        if isinstance(node, ast.ImportFrom) and node.module and node.module.startswith(\"vtkmodules.\"):\n            module_name = node.module[len(\"vtkmodules.\"):]  # Strip the \"vtkmodules.\" prefix\n            for alias in node.names:\n                class_name = alias.name\n                as_name = alias.asname if alias.asname else alias.name\n                results.append((module_name, class_name, as_name))\n\n    return results\n\ndef create_mock_modules(parsed_imports):\n    \"\"\"\n    Dynamically creates mock modules and injects them into sys.modules.\n\n    Args:\n        parsed_imports (list): A list of tuples (module_name, class_name, alias).\n    \"\"\"\n    # Root vtkmodules package\n    vtkmodules = types.ModuleType(\"vtkmodules\")\n\n    for module_name, class_name, alias in parsed_imports:\n        # Split module_name into parts for nested modules\n        parts = module_name.split(\".\")\n        parent = vtkmodules\n\n        # Create nested modules\n        for part in parts:\n            full_name = f\"{parent.__name__}.{part}\"\n            if not hasattr(parent, part):\n                submodule = types.ModuleType(full_name)\n                setattr(parent, part, submodule)\n                sys.modules[full_name] = submodule\n            parent = getattr(parent, part)\n\n        # Create mock class\n        mock_class = type(class_name, (), {})\n        setattr(parent, alias, mock_class)\n\n    # Inject the root vtkmodules into sys.modules\n    sys.modules[\"vtkmodules\"] = vtkmodules\n\n# URL of the source file\nurl = \"https://raw.githubusercontent.com/pyvista/pyvista/refs/heads/main/pyvista/core/_vtk_core.py\"\n\n# Fetch the content from the URL\nresponse = requests.get(url)\nif response.status_code != 200:\n    raise Exception(f\"Failed to fetch content from URL: {url}\")\n\ncontent = response.text\n\n# Parse imports\nparsed_imports = extract_imports_from_ast(content)\n\n# Create mock modules\ncreate_mock_modules(parsed_imports)\n\n# Test the structure\n# print(\"Mocked modules and classes:\")\n# for module_name, class_name, alias in parsed_imports:\n#     print(f\"Module: {module_name}, Class: {class_name}, Alias: {alias}\")",
      "metadata": {
        "trusted": true
      },
      "outputs": [],
      "execution_count": 2
    },
    {
      "cell_type": "code",
      "source": "# Expected to fail\nimport pyvista",
      "metadata": {
        "trusted": true
      },
      "outputs": [
        {
          "name": "stderr",
          "text": "/lib/python3.12/site-packages/pyvista/core/_vtk_core.py:455: UserWarning: Unable to detect VTK version. Defaulting to v4.0.0\n  warnings.warn(\"Unable to detect VTK version. Defaulting to v4.0.0\")\n",
          "output_type": "stream"
        },
        {
          "ename": "<class 'TypeError'>",
          "evalue": "int() argument must be a string, a bytes-like object or a real number, not 'type'",
          "traceback": [
            "\u001b[0;31m---------------------------------------------------------------------------\u001b[0m",
            "\u001b[0;31mTypeError\u001b[0m                                 Traceback (most recent call last)",
            "Cell \u001b[0;32mIn[3], line 2\u001b[0m\n\u001b[1;32m      1\u001b[0m \u001b[38;5;66;03m# Expected to fail\u001b[39;00m\n\u001b[0;32m----> 2\u001b[0m \u001b[38;5;28;01mimport\u001b[39;00m \u001b[38;5;21;01mpyvista\u001b[39;00m\n",
            "File \u001b[0;32m/lib/python3.12/site-packages/pyvista/__init__.py:14\u001b[0m\n\u001b[1;32m     12\u001b[0m \u001b[38;5;28;01mfrom\u001b[39;00m \u001b[38;5;21;01mpyvista\u001b[39;00m\u001b[38;5;21;01m.\u001b[39;00m\u001b[38;5;21;01m_version\u001b[39;00m \u001b[38;5;28;01mimport\u001b[39;00m __version__\n\u001b[1;32m     13\u001b[0m \u001b[38;5;28;01mfrom\u001b[39;00m \u001b[38;5;21;01mpyvista\u001b[39;00m\u001b[38;5;21;01m.\u001b[39;00m\u001b[38;5;21;01m_version\u001b[39;00m \u001b[38;5;28;01mimport\u001b[39;00m version_info\n\u001b[0;32m---> 14\u001b[0m \u001b[38;5;28;01mfrom\u001b[39;00m \u001b[38;5;21;01mpyvista\u001b[39;00m\u001b[38;5;21;01m.\u001b[39;00m\u001b[38;5;21;01mcore\u001b[39;00m \u001b[38;5;28;01mimport\u001b[39;00m \u001b[38;5;241m*\u001b[39m\n\u001b[1;32m     15\u001b[0m \u001b[38;5;28;01mfrom\u001b[39;00m \u001b[38;5;21;01mpyvista\u001b[39;00m\u001b[38;5;21;01m.\u001b[39;00m\u001b[38;5;21;01mcore\u001b[39;00m \u001b[38;5;28;01mimport\u001b[39;00m _validation\n\u001b[1;32m     16\u001b[0m \u001b[38;5;28;01mfrom\u001b[39;00m \u001b[38;5;21;01mpyvista\u001b[39;00m\u001b[38;5;21;01m.\u001b[39;00m\u001b[38;5;21;01mcore\u001b[39;00m\u001b[38;5;21;01m.\u001b[39;00m\u001b[38;5;21;01m_vtk_core\u001b[39;00m \u001b[38;5;28;01mimport\u001b[39;00m vtk_version_info\n",
            "File \u001b[0;32m/lib/python3.12/site-packages/pyvista/core/__init__.py:8\u001b[0m\n\u001b[1;32m      6\u001b[0m \u001b[38;5;28;01mfrom\u001b[39;00m \u001b[38;5;21;01m.\u001b[39;00m \u001b[38;5;28;01mimport\u001b[39;00m _vtk_core\n\u001b[1;32m      7\u001b[0m \u001b[38;5;28;01mfrom\u001b[39;00m \u001b[38;5;21;01m.\u001b[39;00m\u001b[38;5;21;01m_typing_core\u001b[39;00m \u001b[38;5;28;01mimport\u001b[39;00m \u001b[38;5;241m*\u001b[39m\n\u001b[0;32m----> 8\u001b[0m \u001b[38;5;28;01mfrom\u001b[39;00m \u001b[38;5;21;01m.\u001b[39;00m\u001b[38;5;21;01mcell\u001b[39;00m \u001b[38;5;28;01mimport\u001b[39;00m Cell\n\u001b[1;32m      9\u001b[0m \u001b[38;5;28;01mfrom\u001b[39;00m \u001b[38;5;21;01m.\u001b[39;00m\u001b[38;5;21;01mcell\u001b[39;00m \u001b[38;5;28;01mimport\u001b[39;00m CellArray\n\u001b[1;32m     10\u001b[0m \u001b[38;5;28;01mfrom\u001b[39;00m \u001b[38;5;21;01m.\u001b[39;00m\u001b[38;5;21;01mcelltype\u001b[39;00m \u001b[38;5;28;01mimport\u001b[39;00m CellType\n",
            "File \u001b[0;32m/lib/python3.12/site-packages/pyvista/core/cell.py:15\u001b[0m\n\u001b[1;32m     12\u001b[0m \u001b[38;5;28;01mimport\u001b[39;00m \u001b[38;5;21;01mpyvista\u001b[39;00m\n\u001b[1;32m     14\u001b[0m \u001b[38;5;28;01mfrom\u001b[39;00m \u001b[38;5;21;01m.\u001b[39;00m \u001b[38;5;28;01mimport\u001b[39;00m _vtk_core \u001b[38;5;28;01mas\u001b[39;00m _vtk\n\u001b[0;32m---> 15\u001b[0m \u001b[38;5;28;01mfrom\u001b[39;00m \u001b[38;5;21;01m.\u001b[39;00m\u001b[38;5;21;01mcelltype\u001b[39;00m \u001b[38;5;28;01mimport\u001b[39;00m CellType\n\u001b[1;32m     16\u001b[0m \u001b[38;5;28;01mfrom\u001b[39;00m \u001b[38;5;21;01m.\u001b[39;00m\u001b[38;5;21;01mdataset\u001b[39;00m \u001b[38;5;28;01mimport\u001b[39;00m DataObject\n\u001b[1;32m     17\u001b[0m \u001b[38;5;28;01mfrom\u001b[39;00m \u001b[38;5;21;01m.\u001b[39;00m\u001b[38;5;21;01merrors\u001b[39;00m \u001b[38;5;28;01mimport\u001b[39;00m CellSizeError\n",
            "File \u001b[0;32m/lib/python3.12/site-packages/pyvista/core/celltype.py:10\u001b[0m\n\u001b[1;32m      5\u001b[0m \u001b[38;5;28;01mfrom\u001b[39;00m \u001b[38;5;21;01menum\u001b[39;00m \u001b[38;5;28;01mimport\u001b[39;00m IntEnum\n\u001b[1;32m      7\u001b[0m \u001b[38;5;28;01mfrom\u001b[39;00m \u001b[38;5;21;01m.\u001b[39;00m \u001b[38;5;28;01mimport\u001b[39;00m _vtk_core \u001b[38;5;28;01mas\u001b[39;00m _vtk\n\u001b[0;32m---> 10\u001b[0m \u001b[38;5;28;43;01mclass\u001b[39;49;00m\u001b[43m \u001b[49m\u001b[38;5;21;43;01mCellType\u001b[39;49;00m\u001b[43m(\u001b[49m\u001b[43mIntEnum\u001b[49m\u001b[43m)\u001b[49m\u001b[43m:\u001b[49m\n\u001b[1;32m     11\u001b[0m \u001b[38;5;250;43m    \u001b[39;49m\u001b[38;5;124;43;03m\"\"\"Define types of cells.\u001b[39;49;00m\n\u001b[1;32m     12\u001b[0m \n\u001b[1;32m     13\u001b[0m \u001b[38;5;124;43;03m    Notes\u001b[39;49;00m\n\u001b[0;32m   (...)\u001b[0m\n\u001b[1;32m     51\u001b[0m \n\u001b[1;32m     52\u001b[0m \u001b[38;5;124;43;03m    \"\"\"\u001b[39;49;00m\n\u001b[1;32m     54\u001b[0m \u001b[43m    \u001b[49m\u001b[38;5;66;43;03m# Linear cells\u001b[39;49;00m\n",
            "File \u001b[0;32m/lib/python312.zip/enum.py:593\u001b[0m, in \u001b[0;36mEnumType.__new__\u001b[0;34m(metacls, cls, bases, classdict, boundary, _simple, **kwds)\u001b[0m\n\u001b[1;32m    591\u001b[0m     tb \u001b[38;5;241m=\u001b[39m e\u001b[38;5;241m.\u001b[39m__traceback__\n\u001b[1;32m    592\u001b[0m \u001b[38;5;28;01mif\u001b[39;00m exc \u001b[38;5;129;01mis\u001b[39;00m \u001b[38;5;129;01mnot\u001b[39;00m \u001b[38;5;28;01mNone\u001b[39;00m:\n\u001b[0;32m--> 593\u001b[0m     \u001b[38;5;28;01mraise\u001b[39;00m exc\u001b[38;5;241m.\u001b[39mwith_traceback(tb)\n\u001b[1;32m    594\u001b[0m \u001b[38;5;66;03m#\u001b[39;00m\n\u001b[1;32m    595\u001b[0m \u001b[38;5;66;03m# update classdict with any changes made by __init_subclass__\u001b[39;00m\n\u001b[1;32m    596\u001b[0m classdict\u001b[38;5;241m.\u001b[39mupdate(enum_class\u001b[38;5;241m.\u001b[39m\u001b[38;5;18m__dict__\u001b[39m)\n",
            "File \u001b[0;32m/lib/python312.zip/enum.py:583\u001b[0m, in \u001b[0;36mEnumType.__new__\u001b[0;34m(metacls, cls, bases, classdict, boundary, _simple, **kwds)\u001b[0m\n\u001b[1;32m    581\u001b[0m \u001b[38;5;28;01mtry\u001b[39;00m:\n\u001b[1;32m    582\u001b[0m     exc \u001b[38;5;241m=\u001b[39m \u001b[38;5;28;01mNone\u001b[39;00m\n\u001b[0;32m--> 583\u001b[0m     enum_class \u001b[38;5;241m=\u001b[39m \u001b[38;5;28;43msuper\u001b[39;49m\u001b[43m(\u001b[49m\u001b[43m)\u001b[49m\u001b[38;5;241;43m.\u001b[39;49m\u001b[38;5;21;43m__new__\u001b[39;49m\u001b[43m(\u001b[49m\u001b[43mmetacls\u001b[49m\u001b[43m,\u001b[49m\u001b[43m \u001b[49m\u001b[38;5;28;43mcls\u001b[39;49m\u001b[43m,\u001b[49m\u001b[43m \u001b[49m\u001b[43mbases\u001b[49m\u001b[43m,\u001b[49m\u001b[43m \u001b[49m\u001b[43mclassdict\u001b[49m\u001b[43m,\u001b[49m\u001b[43m \u001b[49m\u001b[38;5;241;43m*\u001b[39;49m\u001b[38;5;241;43m*\u001b[39;49m\u001b[43mkwds\u001b[49m\u001b[43m)\u001b[49m\n\u001b[1;32m    584\u001b[0m \u001b[38;5;28;01mexcept\u001b[39;00m \u001b[38;5;167;01mException\u001b[39;00m \u001b[38;5;28;01mas\u001b[39;00m e:\n\u001b[1;32m    585\u001b[0m     \u001b[38;5;66;03m# since 3.12 the line \"Error calling __set_name__ on '_proto_member' instance ...\"\u001b[39;00m\n\u001b[1;32m    586\u001b[0m     \u001b[38;5;66;03m# is tacked on to the error instead of raising a RuntimeError\u001b[39;00m\n\u001b[1;32m    587\u001b[0m     \u001b[38;5;66;03m# recreate the exception to discard\u001b[39;00m\n\u001b[1;32m    588\u001b[0m     exc \u001b[38;5;241m=\u001b[39m \u001b[38;5;28mtype\u001b[39m(e)(\u001b[38;5;28mstr\u001b[39m(e))\n",
            "File \u001b[0;32m/lib/python312.zip/enum.py:266\u001b[0m, in \u001b[0;36m_proto_member.__set_name__\u001b[0;34m(self, enum_class, member_name)\u001b[0m\n\u001b[1;32m    264\u001b[0m     enum_member \u001b[38;5;241m=\u001b[39m enum_class\u001b[38;5;241m.\u001b[39m_new_member_(enum_class)\n\u001b[1;32m    265\u001b[0m \u001b[38;5;28;01melse\u001b[39;00m:\n\u001b[0;32m--> 266\u001b[0m     enum_member \u001b[38;5;241m=\u001b[39m \u001b[43menum_class\u001b[49m\u001b[38;5;241;43m.\u001b[39;49m\u001b[43m_new_member_\u001b[49m\u001b[43m(\u001b[49m\u001b[43menum_class\u001b[49m\u001b[43m,\u001b[49m\u001b[43m \u001b[49m\u001b[38;5;241;43m*\u001b[39;49m\u001b[43margs\u001b[49m\u001b[43m)\u001b[49m\n\u001b[1;32m    267\u001b[0m \u001b[38;5;28;01mif\u001b[39;00m \u001b[38;5;129;01mnot\u001b[39;00m \u001b[38;5;28mhasattr\u001b[39m(enum_member, \u001b[38;5;124m'\u001b[39m\u001b[38;5;124m_value_\u001b[39m\u001b[38;5;124m'\u001b[39m):\n\u001b[1;32m    268\u001b[0m     \u001b[38;5;28;01mif\u001b[39;00m enum_class\u001b[38;5;241m.\u001b[39m_member_type_ \u001b[38;5;129;01mis\u001b[39;00m \u001b[38;5;28mobject\u001b[39m:\n",
            "\u001b[0;31mTypeError\u001b[0m: int() argument must be a string, a bytes-like object or a real number, not 'type'"
          ],
          "output_type": "error"
        }
      ],
      "execution_count": 3
    },
    {
      "cell_type": "code",
      "source": "import re\nimport requests\n\ndef parse_vtk_constants(content):\n    \"\"\"\n    Parses VTK constants with numeric values from the given content.\n\n    Args:\n        content (str): The source content to parse.\n\n    Returns:\n        dict: A dictionary of constants and their corresponding values.\n    \"\"\"\n    # Regex to match lines like \"VTK_* = <number>,\"\n    pattern = re.compile(r\"^\\s*VTK_(\\w+):\\s*(\\d+),\")\n    constants = {}\n\n    for line in content.splitlines():\n        match = pattern.match(line)\n        if match:\n            name = f\"VTK_{match.group(1)}\"\n            value = int(match.group(2))\n            constants[name] = value\n\n    return constants\n\n# URL of the source file\nurl = \"https://raw.githubusercontent.com/Kitware/vtk-js/refs/heads/master/Sources/Common/DataModel/CellTypes/Constants.js\"\n\n# Fetch the content from the URL\nresponse = requests.get(url)\nif response.status_code != 200:\n    raise Exception(f\"Failed to fetch content from URL: {url}\")\n\ncontent = response.text\n\n# Parse constants using the regex\nvtk_constants = parse_vtk_constants(content)\n\n# Display the constants\nprint(\"Parsed VTK Constants:\")\nfor name, value in vtk_constants.items():\n    print(f\"{name} = {value}\")\n\n# Generate mock definitions\n# print(\"\\nGenerated Mock Definitions:\")\n# for name, value in vtk_constants.items():\n#     print(f\"{name} = {value}\")\n\n# Dynamically extend the previously built mock\n# if \"pyvista.core._vtk_core\" not in sys.modules:\n#     raise ImportError(\"_vtk_core mock must already exist\")\n\n# vtk_core_mock = sys.modules[\"pyvista.core._vtk_core\"]\n\n# # Adding parsed constants from the VTK CellType specification\n\n# for name, value in vtk_constants.items():\n#     setattr(vtk_core_mock, name, value)\n\nif \"vtkmodules\" not in sys.modules:\n    raise ImportError(\"_vtk_core mock must already exist\")\n\nvtkmodules = sys.modules[\"vtkmodules\"]\n\n# Adding parsed constants from the VTK CellType specification\n\nfor name, value in vtk_constants.items():\n    setattr(vtkmodules, name, value)",
      "metadata": {
        "trusted": true
      },
      "outputs": [
        {
          "name": "stdout",
          "text": "Parsed VTK Constants:\nVTK_EMPTY_CELL = 0\nVTK_VERTEX = 1\nVTK_POLY_VERTEX = 2\nVTK_LINE = 3\nVTK_POLY_LINE = 4\nVTK_TRIANGLE = 5\nVTK_TRIANGLE_STRIP = 6\nVTK_POLYGON = 7\nVTK_PIXEL = 8\nVTK_QUAD = 9\nVTK_TETRA = 10\nVTK_VOXEL = 11\nVTK_HEXAHEDRON = 12\nVTK_WEDGE = 13\nVTK_PYRAMID = 14\nVTK_PENTAGONAL_PRISM = 15\nVTK_HEXAGONAL_PRISM = 16\nVTK_QUADRATIC_EDGE = 21\nVTK_QUADRATIC_TRIANGLE = 22\nVTK_QUADRATIC_QUAD = 23\nVTK_QUADRATIC_POLYGON = 36\nVTK_QUADRATIC_TETRA = 24\nVTK_QUADRATIC_HEXAHEDRON = 25\nVTK_QUADRATIC_WEDGE = 26\nVTK_QUADRATIC_PYRAMID = 27\nVTK_BIQUADRATIC_QUAD = 28\nVTK_TRIQUADRATIC_HEXAHEDRON = 29\nVTK_QUADRATIC_LINEAR_QUAD = 30\nVTK_QUADRATIC_LINEAR_WEDGE = 31\nVTK_BIQUADRATIC_QUADRATIC_WEDGE = 32\nVTK_BIQUADRATIC_QUADRATIC_HEXAHEDRON = 33\nVTK_BIQUADRATIC_TRIANGLE = 34\nVTK_CUBIC_LINE = 35\nVTK_CONVEX_POINT_SET = 41\nVTK_POLYHEDRON = 42\nVTK_PARAMETRIC_CURVE = 51\nVTK_PARAMETRIC_SURFACE = 52\nVTK_PARAMETRIC_TRI_SURFACE = 53\nVTK_PARAMETRIC_QUAD_SURFACE = 54\nVTK_PARAMETRIC_TETRA_REGION = 55\nVTK_PARAMETRIC_HEX_REGION = 56\nVTK_HIGHER_ORDER_EDGE = 60\nVTK_HIGHER_ORDER_TRIANGLE = 61\nVTK_HIGHER_ORDER_QUAD = 62\nVTK_HIGHER_ORDER_POLYGON = 63\nVTK_HIGHER_ORDER_TETRAHEDRON = 64\nVTK_HIGHER_ORDER_WEDGE = 65\nVTK_HIGHER_ORDER_PYRAMID = 66\nVTK_HIGHER_ORDER_HEXAHEDRON = 67\nVTK_LAGRANGE_CURVE = 68\nVTK_LAGRANGE_TRIANGLE = 69\nVTK_LAGRANGE_QUADRILATERAL = 70\nVTK_LAGRANGE_TETRAHEDRON = 71\nVTK_LAGRANGE_HEXAHEDRON = 72\nVTK_LAGRANGE_WEDGE = 73\nVTK_LAGRANGE_PYRAMID = 74\nVTK_NUMBER_OF_CELL_TYPES = 75\n",
          "output_type": "stream"
        }
      ],
      "execution_count": 4
    },
    {
      "cell_type": "code",
      "source": "# import re\n# import requests\n\n# def parse_celltype_constants(content):\n#     \"\"\"\n#     Parses the VTK constants (e.g., VTK_EMPTY_CELL) from celltype.py content.\n\n#     Args:\n#         content (str): The Python source code to parse.\n\n#     Returns:\n#         set: A set of VTK constants (e.g., VTK_EMPTY_CELL, VTK_VERTEX).\n#     \"\"\"\n#     # Regex to match `_vtk.VTK_*` references\n#     pattern = re.compile(r\"value=_vtk\\.(VTK_\\w+)\")\n#     constants = set()\n\n#     for line in content.splitlines():\n#         match = pattern.search(line)\n#         if match:\n#             constants.add(match.group(1))\n\n#     return constants\n\n# def check_missing_constants(parsed_constants, mock_constants):\n#     \"\"\"\n#     Compares parsed constants against the mock constants and identifies any missing ones.\n\n#     Args:\n#         parsed_constants (set): A set of parsed constants from the source file.\n#         mock_constants (set): A set of mock constants defined in the mock module.\n\n#     Returns:\n#         set: A set of constants missing from the mock module.\n#     \"\"\"\n#     return parsed_constants - mock_constants\n\n# # URL of the source file\n# url = \"https://raw.githubusercontent.com/pyvista/pyvista/refs/heads/main/pyvista/core/celltype.py\"\n\n# # Fetch the content from the URL\n# response = requests.get(url)\n# if response.status_code != 200:\n#     raise Exception(f\"Failed to fetch content from URL: {url}\")\n\n# content = response.text\n\n# # Parse constants from the source file\n# parsed_constants = parse_celltype_constants(content)\n\n# # Compare and find missing constants\n# missing_constants = check_missing_constants(parsed_constants, vtk_constants)\n\n# # Display results\n# print(\"Parsed Constants:\")\n# print(parsed_constants)\n# print(\"\\nMock Constants:\")\n# print(mock_constants)\n# print(\"\\nMissing Constants:\")\n# print(missing_constants)",
      "metadata": {
        "trusted": true
      },
      "outputs": [],
      "execution_count": 5
    },
    {
      "cell_type": "code",
      "source": "import re\nimport requests\nimport sys\n\n# Function to parse constants from the VTK JavaScript file\ndef parse_vtk_constants(content):\n    \"\"\"\n    Parses VTK constants with numeric values from the given content.\n\n    Args:\n        content (str): The source content to parse.\n\n    Returns:\n        dict: A dictionary of constants and their corresponding values.\n    \"\"\"\n    # Regex to match lines like \"VTK_*: <number>,\"\n    pattern = re.compile(r\"^\\s*VTK_(\\w+):\\s*(\\d+),\")\n    constants = {}\n\n    for line in content.splitlines():\n        match = pattern.match(line)\n        if match:\n            name = f\"VTK_{match.group(1)}\"\n            value = int(match.group(2))\n            constants[name] = value\n\n    return constants\n\n# Function to parse constants from the PyVista `celltype.py` file\ndef parse_celltype_constants(content):\n    \"\"\"\n    Parses the VTK constants (e.g., VTK_EMPTY_CELL) from celltype.py content.\n\n    Args:\n        content (str): The Python source code to parse.\n\n    Returns:\n        set: A set of VTK constants (e.g., VTK_EMPTY_CELL, VTK_VERTEX).\n    \"\"\"\n    # Regex to match `_vtk.VTK_*` references\n    pattern = re.compile(r\"value=_vtk\\.(VTK_\\w+)\")\n    constants = set()\n\n    for line in content.splitlines():\n        match = pattern.search(line)\n        if match:\n            constants.add(match.group(1))\n\n    return constants\n\n# Function to compare parsed constants with mock constants\ndef check_missing_constants(parsed_constants, mock_constants):\n    \"\"\"\n    Compares parsed constants against the mock constants and identifies any missing ones.\n\n    Args:\n        parsed_constants (set): A set of parsed constants from the source file.\n        mock_constants (set): A set of mock constants defined in the mock module.\n\n    Returns:\n        set: A set of constants missing from the mock module.\n    \"\"\"\n    return parsed_constants - mock_constants\n\n# URL of the VTK constants (JavaScript)\nvtk_constants_url = \"https://raw.githubusercontent.com/Kitware/vtk-js/refs/heads/master/Sources/Common/DataModel/CellTypes/Constants.js\"\n\n# Fetch and parse VTK constants\nvtk_response = requests.get(vtk_constants_url)\nif vtk_response.status_code != 200:\n    raise Exception(f\"Failed to fetch VTK constants from URL: {vtk_constants_url}\")\n\nvtk_constants_content = vtk_response.text\nvtk_constants = parse_vtk_constants(vtk_constants_content)\n\nbeizer_constants = {\n    \"VTK_BEZIER_CURVE\": 75,\n    \"VTK_BEZIER_TRIANGLE\": 76,\n    \"VTK_BEZIER_QUADRILATERAL\": 77,\n    \"VTK_BEZIER_TETRAHEDRON\": 78,\n    \"VTK_BEZIER_HEXAHEDRON\": 79,\n    \"VTK_BEZIER_WEDGE\": 80,\n    \"VTK_BEZIER_PYRAMID\": 10000,\n    \"VTK_TRIQUADRATIC_PYRAMID\": 10001,\n}\n\nvtk_constants.update(beizer_constants)\n\n\n# Dynamically extend the previously built mock\nif \"pyvista.core._vtk_core\" not in sys.modules:\n    raise ImportError(\"_vtk_core mock must already exist\")\n\nvtk_core_mock = sys.modules[\"pyvista.core._vtk_core\"]\nfor name, value in vtk_constants.items():\n    setattr(vtk_core_mock, name, value)\n\n# URL of the PyVista `celltype.py`\ncelltype_url = \"https://raw.githubusercontent.com/pyvista/pyvista/refs/heads/main/pyvista/core/celltype.py\"\n\n# Fetch and parse celltype constants\ncelltype_response = requests.get(celltype_url)\nif celltype_response.status_code != 200:\n    raise Exception(f\"Failed to fetch CellType constants from URL: {celltype_url}\")\n\ncelltype_content = celltype_response.text\ncelltype_constants = parse_celltype_constants(celltype_content)\n\n# Check for missing constants\n# missing_constants = check_missing_constants(celltype_constants, set(vtk_constants.keys()))\n\n# # Display results\n# print(\"Parsed VTK Constants:\")\n# print(vtk_constants)\n\n# print(\"\\nParsed CellType Constants:\")\n# print(celltype_constants)\n\n# print(\"\\nMissing Constants:\")\n# print(missing_constants)",
      "metadata": {
        "trusted": true
      },
      "outputs": [],
      "execution_count": 6
    },
    {
      "cell_type": "code",
      "source": "# Ensure the mock module is already initialized\nif \"pyvista.core._vtk_core\" not in sys.modules:\n    raise ImportError(\"_vtk_core mock must already exist\")\n\nvtk_core = sys.modules[\"pyvista.core._vtk_core\"]\n\n# Mock the necessary classes for VTK Rendering\nclass vtkMathTextFreeTypeTextRenderer:\n    pass  # Placeholder class\n\nclass vtkVectorText:\n    pass  # Placeholder class\n\nclass vtkLabelPlacementMapper:\n    pass  # Placeholder class\n\n# Adding these classes to the mock module\nvtk_core.vtkMathTextFreeTypeTextRenderer = vtkMathTextFreeTypeTextRenderer\nvtk_core.vtkVectorText = vtkVectorText\nvtk_core.vtkLabelPlacementMapper = vtkLabelPlacementMapper\n\n# Verify the classes were added successfully\nprint(f\"vtkMathTextFreeTypeTextRenderer: {vtk_core.vtkMathTextFreeTypeTextRenderer}\")\nprint(f\"vtkVectorText: {vtk_core.vtkVectorText}\")\nprint(f\"vtkLabelPlacementMapper: {vtk_core.vtkLabelPlacementMapper}\")",
      "metadata": {
        "trusted": true
      },
      "outputs": [
        {
          "name": "stdout",
          "text": "vtkMathTextFreeTypeTextRenderer: <class '__main__.vtkMathTextFreeTypeTextRenderer'>\nvtkVectorText: <class '__main__.vtkVectorText'>\nvtkLabelPlacementMapper: <class '__main__.vtkLabelPlacementMapper'>\n",
          "output_type": "stream"
        }
      ],
      "execution_count": 7
    },
    {
      "cell_type": "code",
      "source": "# Define vtkDataObject constants\nclass vtkDataObject:\n    FIELD_ASSOCIATION_POINTS = 0\n    FIELD_ASSOCIATION_CELLS = 1\n    FIELD_ASSOCIATION_NONE = 2\n    FIELD_ASSOCIATION_ROWS = 3\n\n# Add vtkDataObject to the mock module\nvtk_core.vtkDataObject = vtkDataObject",
      "metadata": {
        "trusted": true
      },
      "outputs": [],
      "execution_count": 8
    },
    {
      "cell_type": "code",
      "source": "import numpy as np\nimport sys\n\n# Ensure the mock module is already initialized\nif \"pyvista.core._vtk_core\" not in sys.modules:\n    raise ImportError(\"_vtk_core mock must already exist\")\n\nvtk_core_mock = sys.modules[\"pyvista.core._vtk_core\"]\n\n# Mock VTKArray class that mimics a numpy array-like behavior\nclass VTKArray(np.ndarray):\n    def __new__(cls, shape, dtype=float, buffer=None, offset=0, strides=None, order=None):\n        # Create the ndarray instance\n        obj = np.ndarray.__new__(cls, shape, dtype, buffer, offset, strides, order)\n        return obj\n    \n    def __array_finalize__(self, obj):\n        \"\"\"\n        This method is called when an array is modified or used in an operation.\n        We override it to ensure the mock array behaves correctly with NumPy.\n        \"\"\"\n        if obj is None:  # In case of initialization\n            return\n        # Ensure no undefined attributes are accessed\n        if not hasattr(self, '_vtk_array_initialized'):\n            self._vtk_array_initialized = True\n\n    def __getattr__(self, name):\n        # Handle missing attributes by returning a default value or custom behavior\n        print(f\"Mocking __getattr__ for missing attribute: {name}\")\n        # Example behavior: return a custom value or raise an error\n        return f\"Mocked value for {name}\"\n\n# Add the mock VTKArray to the mock module\nvtk_core_mock.VTKArray = VTKArray\n\n# Test the VTKArray class and the __array_finalize__ method\nvtk_array = vtk_core_mock.VTKArray((3, 3), dtype=float)\nprint(f\"VTKArray created with shape {vtk_array.shape}\")\n\n# Perform an operation to trigger __array_finalize__\nvtk_array[0] = 10\nprint(f\"VTKArray after modification: {vtk_array}\")\n\n# Check if the internal flag set in __array_finalize__ is working\nprint(f\"VTKArray internal flag: {getattr(vtk_array, '_vtk_array_initialized', False)}\")\n\n# Now let's try accessing an undefined attribute to trigger __getattr__\nprint(vtk_array.undefined_attribute)  # This will trigger __getattr__",
      "metadata": {
        "trusted": true
      },
      "outputs": [
        {
          "name": "stdout",
          "text": "VTKArray created with shape (3, 3)\nMocking __getattr__ for missing attribute: _vtk_array_initialized\nVTKArray after modification: [[1.00000000e+001 1.00000000e+001 1.00000000e+001]\n [3.25632936e-316 9.88131292e-324 0.00000000e+000]\n [0.00000000e+000 0.00000000e+000 0.00000000e+000]]\nMocking __getattr__ for missing attribute: _vtk_array_initialized\nVTKArray internal flag: Mocked value for _vtk_array_initialized\nMocking __getattr__ for missing attribute: undefined_attribute\nMocked value for undefined_attribute\n",
          "output_type": "stream"
        }
      ],
      "execution_count": 9
    },
    {
      "cell_type": "code",
      "source": "import sys\n\n# Ensure the mock module is already initialized\nif \"pyvista.core._vtk_core\" not in sys.modules:\n    raise ImportError(\"_vtk_core mock must already exist\")\n\nvtk_core = sys.modules[\"pyvista.core._vtk_core\"]\n\n# Mock vtkWeakReference class\nclass vtkWeakReference:\n    def __init__(self):\n        self._reference = None\n\n    def Set(self, obj):\n        # Store the reference to the actual object\n        self._reference = obj\n    \n    def Get(self):\n        # Return the actual referenced object\n        return self._reference\n\n# Mock vtkPolyData class\nclass vtkPolyData:\n    def __init__(self):\n        self.data = \"Sample VTK data\"\n\n    def Set(self, data):\n        self.data = data  # Simulate setting some data in the object\n\n# Add mocked classes to the mock module\nvtk_core.vtkWeakReference = vtkWeakReference\nvtk_core.vtkPolyData = vtkPolyData\n\n# Test using vtkWeakReference to hold a reference to vtkPolyData\nweak_ref = vtk_core.vtkWeakReference()\nvtk_object = vtk_core.vtkPolyData()\n\n# Set the reference (store the vtkPolyData object in the vtkWeakReference)\nweak_ref.Set(vtk_object)\n\n# Get the reference and call 'Set' on the actual object (dereferencing the weak reference)\nresolved_object = weak_ref.Get()\nresolved_object.Set(\"Updated VTK data\")\n\n# Test that the Set method worked on the referenced object\nprint(f\"Resolved object data: {resolved_object.data}\")\n",
      "metadata": {
        "trusted": true
      },
      "outputs": [
        {
          "name": "stdout",
          "text": "Resolved object data: Updated VTK data\n",
          "output_type": "stream"
        }
      ],
      "execution_count": 10
    },
    {
      "cell_type": "code",
      "source": "import sys\nimport types\n\n# Ensure the mock module is already initialized\nif \"pyvista.core._vtk_core\" not in sys.modules:\n    raise ImportError(\"_vtk_core mock must already exist\")\n\nvtk_core_mock = sys.modules[\"pyvista.core._vtk_core\"]\n\n# Create mock modules for vtkRenderingFreeType and vtkRenderingLabel\nvtkRenderingFreeType_mock = types.ModuleType(\"vtkmodules.vtkRenderingFreeType\")\nvtkRenderingLabel_mock = types.ModuleType(\"vtkmodules.vtkRenderingLabel\")\n\n# Mock classes for vtkRenderingFreeType\nclass vtkMathTextFreeTypeTextRenderer:\n    pass  # Placeholder class\n\nclass vtkVectorText:\n    pass  # Placeholder class\n\n# Add the mocked classes to the vtkRenderingFreeType mock module\nvtkRenderingFreeType_mock.vtkMathTextFreeTypeTextRenderer = vtkMathTextFreeTypeTextRenderer\nvtkRenderingFreeType_mock.vtkVectorText = vtkVectorText\n\n# Mock class for vtkRenderingLabel\nclass vtkLabelPlacementMapper:\n    pass  # Placeholder class\n\n# Add the mocked class to the vtkRenderingLabel mock module\nvtkRenderingLabel_mock.vtkLabelPlacementMapper = vtkLabelPlacementMapper\n\n# Add the mock modules to the mock core module (vtk_core_mock)\nvtk_core_mock.vtkRenderingFreeType = vtkRenderingFreeType_mock\nvtk_core_mock.vtkRenderingLabel = vtkRenderingLabel_mock\n\n# Add the mock modules to sys.modules to simulate actual imports\nsys.modules[\"vtkmodules.vtkRenderingFreeType\"] = vtkRenderingFreeType_mock\nsys.modules[\"vtkmodules.vtkRenderingLabel\"] = vtkRenderingLabel_mock\n\n# Now, we can test the imports\nfrom pyvista.core._vtk_core import vtkRenderingFreeType, vtkRenderingLabel\n\nprint(f\"vtkRenderingFreeType.vtkMathTextFreeTypeTextRenderer: {vtkRenderingFreeType.vtkMathTextFreeTypeTextRenderer}\")\nprint(f\"vtkRenderingFreeType.vtkVectorText: {vtkRenderingFreeType.vtkVectorText}\")\nprint(f\"vtkRenderingLabel.vtkLabelPlacementMapper: {vtkRenderingLabel.vtkLabelPlacementMapper}\")",
      "metadata": {
        "trusted": true
      },
      "outputs": [
        {
          "name": "stdout",
          "text": "vtkRenderingFreeType.vtkMathTextFreeTypeTextRenderer: <class '__main__.vtkMathTextFreeTypeTextRenderer'>\nvtkRenderingFreeType.vtkVectorText: <class '__main__.vtkVectorText'>\nvtkRenderingLabel.vtkLabelPlacementMapper: <class '__main__.vtkLabelPlacementMapper'>\n",
          "output_type": "stream"
        }
      ],
      "execution_count": 11
    },
    {
      "cell_type": "code",
      "source": "import sys\nimport types\n\n# Ensure the mock module is already initialized\nif \"pyvista.core._vtk_core\" not in sys.modules:\n    raise ImportError(\"_vtk_core mock must already exist\")\n\nvtk_core = sys.modules[\"pyvista.core._vtk_core\"]\n\n# Create the vtkCommonExecutionModel mock module\nvtkcommonexecutionmodel = types.ModuleType(\"vtkmodules.vtkCommonExecutionModel\")\n\n# Mock vtkAlgorithm class with SINGLE_PRECISION as a class attribute\nclass vtkAlgorithm:\n    SINGLE_PRECISION = 0  # Class-level attribute\n    \n    def SetInputData(self, data):\n        pass\n    \n    def GetOutput(self):\n        return \"mock_output\"\n\n# Add vtkAlgorithm class directly to vtkmodules.vtkCommonExecutionModel in sys.modules\nvtkcommonexecutionmodel.vtkAlgorithm = vtkAlgorithm\n\n# Add vtkmodules.vtkCommonExecutionModel to the vtkmodules mock\n# vtkmodules.vtkCommonExecutionModel = vtkcommonexecutionmodel\n\n# Add vtkmodules to sys.modules to simulate actual imports\nsys.modules[\"vtkmodules.vtkCommonExecutionModel\"] = vtkcommonexecutionmodel\n\nsys.modules[\"pyvista.core._vtk_core\"] = vtk_core\n\n# Now we can test the import of vtkAlgorithm from the correct mock module\nfrom vtkmodules.vtkCommonExecutionModel import vtkAlgorithm\n\n\n# Access the mocked SINGLE_PRECISION constant\nprint(f\"vtkAlgorithm.SINGLE_PRECISION: {vtkAlgorithm.SINGLE_PRECISION}\")\n\n# Print the structure of vtkAlgorithm after import",
      "metadata": {
        "trusted": true
      },
      "outputs": [
        {
          "name": "stdout",
          "text": "vtkAlgorithm.SINGLE_PRECISION: 0\n",
          "output_type": "stream"
        }
      ],
      "execution_count": 12
    },
    {
      "cell_type": "code",
      "source": "from vtkmodules.vtkCommonExecutionModel import vtkAlgorithm",
      "metadata": {
        "trusted": true
      },
      "outputs": [],
      "execution_count": 13
    },
    {
      "cell_type": "code",
      "source": "from pyvista.core._vtk_core import vtkAlgorithm as va",
      "metadata": {
        "trusted": true
      },
      "outputs": [],
      "execution_count": 14
    },
    {
      "cell_type": "code",
      "source": "# TODO: Very hacky for now. Import issues..\nva.SINGLE_PRECISION = 0\nva.DOUBLE_PRECISION = 0",
      "metadata": {
        "trusted": true
      },
      "outputs": [],
      "execution_count": 15
    },
    {
      "cell_type": "code",
      "source": "from pyvista._plot import plot",
      "metadata": {
        "trusted": true
      },
      "outputs": [],
      "execution_count": 16
    },
    {
      "cell_type": "code",
      "source": "import importlib\nimportlib.invalidate_caches()",
      "metadata": {
        "trusted": true
      },
      "outputs": [],
      "execution_count": 17
    },
    {
      "cell_type": "code",
      "source": "del sys.modules['pyvista._plot']\nimport pyvista",
      "metadata": {
        "trusted": true
      },
      "outputs": [
        {
          "name": "stdout",
          "text": "Mocking __getattr__ for missing attribute: _vtk_array_initialized\n",
          "output_type": "stream"
        },
        {
          "ename": "<class 'AttributeError'>",
          "evalue": "'vtkIdTypeArray' object has no attribute 'GetDataTypeSize'",
          "traceback": [
            "\u001b[0;31m---------------------------------------------------------------------------\u001b[0m",
            "\u001b[0;31mAttributeError\u001b[0m                            Traceback (most recent call last)",
            "Cell \u001b[0;32mIn[18], line 2\u001b[0m\n\u001b[1;32m      1\u001b[0m \u001b[38;5;28;01mdel\u001b[39;00m sys\u001b[38;5;241m.\u001b[39mmodules[\u001b[38;5;124m'\u001b[39m\u001b[38;5;124mpyvista._plot\u001b[39m\u001b[38;5;124m'\u001b[39m]\n\u001b[0;32m----> 2\u001b[0m \u001b[38;5;28;01mimport\u001b[39;00m \u001b[38;5;21;01mpyvista\u001b[39;00m\n",
            "File \u001b[0;32m/lib/python3.12/site-packages/pyvista/__init__.py:26\u001b[0m\n\u001b[1;32m     23\u001b[0m \u001b[38;5;28;01mfrom\u001b[39;00m \u001b[38;5;21;01mpyvista\u001b[39;00m\u001b[38;5;21;01m.\u001b[39;00m\u001b[38;5;21;01mreport\u001b[39;00m \u001b[38;5;28;01mimport\u001b[39;00m get_gpu_info\n\u001b[1;32m     25\u001b[0m \u001b[38;5;66;03m# get the int type from vtk\u001b[39;00m\n\u001b[0;32m---> 26\u001b[0m ID_TYPE \u001b[38;5;241m=\u001b[39m \u001b[43m_get_vtk_id_type\u001b[49m\u001b[43m(\u001b[49m\u001b[43m)\u001b[49m\n\u001b[1;32m     28\u001b[0m \u001b[38;5;66;03m# determine if using at least vtk 9.0.0\u001b[39;00m\n\u001b[1;32m     29\u001b[0m \u001b[38;5;28;01mif\u001b[39;00m vtk_version_info\u001b[38;5;241m.\u001b[39mmajor \u001b[38;5;241m<\u001b[39m \u001b[38;5;241m9\u001b[39m:  \u001b[38;5;66;03m# pragma: no cover\u001b[39;00m\n",
            "File \u001b[0;32m/lib/python3.12/site-packages/pyvista/core/cell.py:32\u001b[0m, in \u001b[0;36m_get_vtk_id_type\u001b[0;34m()\u001b[0m\n\u001b[1;32m     30\u001b[0m \u001b[38;5;28;01mdef\u001b[39;00m \u001b[38;5;21m_get_vtk_id_type\u001b[39m():\n\u001b[1;32m     31\u001b[0m \u001b[38;5;250m    \u001b[39m\u001b[38;5;124;03m\"\"\"Return the numpy datatype responding to ``vtk.vtkIdTypeArray``.\"\"\"\u001b[39;00m\n\u001b[0;32m---> 32\u001b[0m     VTK_ID_TYPE_SIZE \u001b[38;5;241m=\u001b[39m \u001b[43m_vtk\u001b[49m\u001b[38;5;241;43m.\u001b[39;49m\u001b[43mvtkIdTypeArray\u001b[49m\u001b[43m(\u001b[49m\u001b[43m)\u001b[49m\u001b[38;5;241;43m.\u001b[39;49m\u001b[43mGetDataTypeSize\u001b[49m()\n\u001b[1;32m     33\u001b[0m     \u001b[38;5;28;01mif\u001b[39;00m VTK_ID_TYPE_SIZE \u001b[38;5;241m==\u001b[39m \u001b[38;5;241m4\u001b[39m:\n\u001b[1;32m     34\u001b[0m         \u001b[38;5;28;01mreturn\u001b[39;00m np\u001b[38;5;241m.\u001b[39mint32\n",
            "\u001b[0;31mAttributeError\u001b[0m: 'vtkIdTypeArray' object has no attribute 'GetDataTypeSize'"
          ],
          "output_type": "error"
        }
      ],
      "execution_count": 18
    },
    {
      "cell_type": "code",
      "source": "import sys\nimport types\n\n# Step 1: Create a mock for vtkIdTypeArray\nvtkmodules = types.ModuleType(\"vtkmodules\")\nsys.modules[\"vtkmodules\"] = vtkmodules\n\nvtkCommonDataModel = types.ModuleType(\"vtkmodules.vtkCommonDataModel\")\nsys.modules[\"vtkmodules.vtkCommonDataModel\"] = vtkCommonDataModel\n\n# Step 2: Create the mock vtkIdTypeArray class\nclass vtkIdTypeArray:\n    def __init__(self):\n        # Example attribute\n        self.data_type_size = 4  # Mock value for data type size\n\n    def GetDataTypeSize(self):\n        # Return a mocked data type size\n        return self.data_type_size\n\n# Step 3: Add MockvtkIdTypeArray to the mock vtkCommonDataModel module\nvtkCommonDataModel.vtkIdTypeArray = vtkIdTypeArray\n\nvtk_core = sys.modules[\"pyvista.core._vtk_core\"]\nvtk_core.vtkIdTypeArray = vtkIdTypeArray",
      "metadata": {
        "trusted": true
      },
      "outputs": [],
      "execution_count": 19
    },
    {
      "cell_type": "code",
      "source": "class vtkVersion:\n    major = 9\n    @staticmethod\n    def GetVTKMajorVersion():\n        return 9\n\n    @staticmethod\n    def GetVTKMinorVersion():\n        return 4\n\n    @staticmethod\n    def GetVTKBuildVersion():\n        return 1\n\nvtkCommonCore = types.ModuleType(\"vtkmodules.vtkCommonCore\")\nvtkCommonCore.vtkVersion = vtkVersion\nvtkmodules.vtkCommonCore = vtkCommonCore\nvtk_core.vtk_version_info = vtkVersion",
      "metadata": {
        "trusted": true
      },
      "outputs": [],
      "execution_count": 20
    },
    {
      "cell_type": "code",
      "source": "import sys\nimport types\n\n# Step 1: Create a mock for vtkOutputWindow and vtkStringOutputWindow\nvtkmodules_mock = types.ModuleType(\"vtkmodules\")\nsys.modules[\"vtkmodules\"] = vtkmodules_mock\n\nvtkCommonCore_mock = types.ModuleType(\"vtkmodules.vtkCommonCore\")\nsys.modules[\"vtkmodules.vtkCommonCore\"] = vtkCommonCore_mock\n\n# Step 2: Create vtkOutputWindow with SetInstance\nclass vtkOutputWindow:\n    def __init__(self):\n        self.instance_set = False\n    \n    def SetInstance(self, instance):\n        # Mock behavior of SetInstance\n        print(f\"SetInstance called with: {instance}\")\n        self.instance_set = True\n\n# Step 3: Create vtkStringOutputWindow with AddObserver\nclass vtkStringOutputWindow:\n    def __init__(self):\n        self.observers = []\n    \n    def AddObserver(self, event, callback):\n        # Mock behavior of AddObserver\n        print(f\"AddObserver called with event: {event} and callback: {callback}\")\n        self.observers.append((event, callback))\n\n# Step 4: Add vtkOutputWindow and vtkStringOutputWindow to the mock vtkCommonCore module\nvtkCommonCore_mock.vtkOutputWindow = vtkOutputWindow\nvtkCommonCore_mock.vtkStringOutputWindow = vtkStringOutputWindow\n\nvtk_core.vtkOutputWindow = vtkOutputWindow\nvtk_core.vtkStringOutputWindow = vtkStringOutputWindow",
      "metadata": {
        "trusted": true
      },
      "outputs": [],
      "execution_count": 21
    },
    {
      "cell_type": "code",
      "source": "import pyvista",
      "metadata": {
        "trusted": true
      },
      "outputs": [
        {
          "name": "stdout",
          "text": "SetInstance called with: <__main__.vtkStringOutputWindow object at 0x5284120>\nAddObserver called with event: ErrorEvent and callback: <pyvista.core.utilities.observers.Observer object at 0x4e5e250>\n",
          "output_type": "stream"
        }
      ],
      "execution_count": 22
    },
    {
      "cell_type": "markdown",
      "source": "",
      "metadata": {}
    },
    {
      "cell_type": "markdown",
      "source": "## IT'S ALIVE!",
      "metadata": {}
    },
    {
      "cell_type": "code",
      "source": "import json\nimport webcolors\nfrom IPython.display import display, HTML",
      "metadata": {
        "trusted": true
      },
      "outputs": [],
      "execution_count": 23
    },
    {
      "cell_type": "code",
      "source": "class myCylinderSource():\n    def __init__(\n        self,\n        center  = (0.0, 0.0, 0.0),\n        direction = (1.0, 0.0, 0.0),\n        radius = 0.5,\n        height = 1.0,\n        capping = True,\n        resolution = 100,\n    ) -> None:\n        self.center = center\n        self.direction = direction\n        self.radius = radius\n        self.height = height\n        self.resolution = resolution\n        self.capping = capping\n    def SetHeight(self, x):\n        self.height = x\n    def SetRadius(self, x):\n        self.radius = x\n    def SetResolution(self, x):\n        self.resolution = x",
      "metadata": {
        "trusted": true
      },
      "outputs": [],
      "execution_count": 24
    },
    {
      "cell_type": "code",
      "source": "class myPlotter():\n    template = \"\"\"\n<div id=\"vtk-container\" style=\"width: WIDTHpx; height: HEIGHTpx; border: 1px solid black;\"></div>\n<script type=\"text/javascript\">\n  if (typeof vtk === \"undefined\") {\n    var script = document.createElement(\"script\");\n    script.src = \"https://unpkg.com/vtk.js\";\n    document.head.appendChild(script);\n    script.onload = function() {\n      console.log(\"vtk.js loaded successfully\");\n      // Your vtk.js initialization code here\n    };\n  } else {\n    console.log(\"vtk.js is already loaded\");\n    // Your vtk.js initialization code here\n    var fullScreenRenderer = vtk.Rendering.Misc.vtkFullScreenRenderWindow.newInstance({\n      rootContainer: document.getElementById('vtk-container'),\n    });\n\n    MESH_TEMPLATE\n\n    renderer.resetCamera();\n    var renderWindow = fullScreenRenderer.getRenderWindow();\n    renderWindow.render();\n  }\n</script>\n\"\"\"\n    mesh_template = \"\"\"\n    var object_params_ID = OBJECT_PARAMETERS\n    var actor_params_ID = ACTOR_PARAMETERS\n    \n    var actor_ID = vtk.Rendering.Core.vtkActor.newInstance();\n    actor_ID.getProperty().setColor(...actor_params_ID.color);\n    actor_ID.getProperty().setEdgeVisibility(actor_params_ID.show_edges);\n    \n    var mapper_ID = vtk.Rendering.Core.vtkMapper.newInstance();\n    var cone_ID = vtk.Filters.Sources.vtkConeSource.newInstance();\n\n    var obj_ID = vtk.Filters.Sources.vtkCylinderSource.newInstance(object_params_ID);\n\n    actor_ID.setMapper(mapper_ID);\n    mapper_ID.setInputConnection(obj_ID.getOutputPort());\n\n    var renderer = fullScreenRenderer.getRenderer();\n    renderer.addActor(actor_ID);\n\"\"\"\n    def __init__(self, height=400, width=600):\n        self.height = height\n        self.width = width\n        self.meshes = []\n        self.next_mesh_id = 1\n    def add_mesh(self, mesh, color=\"black\", show_edges=False):\n        # Typing the word 'show' here seems to flip the actual realtime display. I don't understand that..\n        # It does suggest we could have some realtime updating though (i.e. render continously on cell change\n        # Or 'render if it compiles' on cell change\n        self.meshes.append([self.next_mesh_id, mesh, color, show_edges])\n        self.next_mesh_id = self.next_mesh_id + 1\n    def show(self, debug=False):\n        rendered_meshes = \"\"\n        for [mesh_id, mesh, color, show_edges] in self.meshes:\n            object_params = json.dumps(\n                {\n                    'height': mesh.height,\n                    'radius': mesh.radius,\n                    'resolution': mesh.resolution,\n                }\n            )\n            # NOTE: We could move the RGB bits into JS and parse with canvas\n            actor_params = json.dumps(\n                {\n                    'color':list(webcolors.name_to_rgb(color)),\n                    'show_edges': show_edges,\n                }\n            )\n            rendered_mesh = self.mesh_template \\\n                .replace(\"OBJECT_PARAMETERS\", object_params) \\\n                .replace(\"ACTOR_PARAMETERS\", actor_params) \\\n                .replace(\"ID\", str(mesh_id))\n            rendered_meshes += rendered_mesh\n        # print(rendered_mesh)\n        output = self.template \\\n            .replace(\"HEIGHT\", str(self.height)) \\\n            .replace(\"WIDTH\", str(self.width)) \\\n            .replace(\"MESH_TEMPLATE\", rendered_meshes)\n        if debug:\n            print(output)\n        display(HTML(output))",
      "metadata": {
        "trusted": true
      },
      "outputs": [],
      "execution_count": 25
    },
    {
      "cell_type": "code",
      "source": "pyvista.CylinderSource = myCylinderSource",
      "metadata": {
        "trusted": true
      },
      "outputs": [],
      "execution_count": 26
    },
    {
      "cell_type": "code",
      "source": "pyvista.Plotter = myPlotter",
      "metadata": {
        "trusted": true
      },
      "outputs": [],
      "execution_count": 27
    },
    {
      "cell_type": "code",
      "source": "cylinder = pyvista.CylinderSource()\ncylinder.SetHeight(2)\ncylinder.SetRadius(2)",
      "metadata": {
        "trusted": true
      },
      "outputs": [],
      "execution_count": 28
    },
    {
      "cell_type": "code",
      "source": "plotter = pyvista.Plotter()\nplotter.add_mesh(cylinder, color=\"yellow\", show_edges=True)\nplotter.show()",
      "metadata": {
        "trusted": true
      },
      "outputs": [
        {
          "output_type": "display_data",
          "data": {
            "text/plain": "<IPython.core.display.HTML object>",
            "text/html": "\n<div id=\"vtk-container\" style=\"width: 600px; height: 400px; border: 1px solid black;\"></div>\n<script type=\"text/javascript\">\n  if (typeof vtk === \"undefined\") {\n    var script = document.createElement(\"script\");\n    script.src = \"https://unpkg.com/vtk.js\";\n    document.head.appendChild(script);\n    script.onload = function() {\n      console.log(\"vtk.js loaded successfully\");\n      // Your vtk.js initialization code here\n    };\n  } else {\n    console.log(\"vtk.js is already loaded\");\n    // Your vtk.js initialization code here\n    var fullScreenRenderer = vtk.Rendering.Misc.vtkFullScreenRenderWindow.newInstance({\n      rootContainer: document.getElementById('vtk-container'),\n    });\n\n    \n    var object_params_1 = {\"height\": 2, \"radius\": 2, \"resolution\": 100}\n    var actor_params_1 = {\"color\": [255, 255, 0], \"show_edges\": true}\n    \n    var actor_1 = vtk.Rendering.Core.vtkActor.newInstance();\n    actor_1.getProperty().setColor(...actor_params_1.color);\n    actor_1.getProperty().setEdgeVisibility(actor_params_1.show_edges);\n    \n    var mapper_1 = vtk.Rendering.Core.vtkMapper.newInstance();\n    var cone_1 = vtk.Filters.Sources.vtkConeSource.newInstance();\n\n    var obj_1 = vtk.Filters.Sources.vtkCylinderSource.newInstance(object_params_1);\n\n    actor_1.setMapper(mapper_1);\n    mapper_1.setInputConnection(obj_1.getOutputPort());\n\n    var renderer = fullScreenRenderer.getRenderer();\n    renderer.addActor(actor_1);\n\n\n    renderer.resetCamera();\n    var renderWindow = fullScreenRenderer.getRenderWindow();\n    renderWindow.render();\n  }\n</script>\n"
          },
          "metadata": {}
        }
      ],
      "execution_count": 29
    },
    {
      "cell_type": "code",
      "source": "",
      "metadata": {
        "trusted": true
      },
      "outputs": [],
      "execution_count": null
    }
  ]
}